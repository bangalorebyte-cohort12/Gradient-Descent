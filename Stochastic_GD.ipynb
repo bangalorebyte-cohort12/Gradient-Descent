{
 "cells": [
  {
   "cell_type": "code",
   "execution_count": 37,
   "metadata": {},
   "outputs": [],
   "source": [
    "# batch gradient descent \n",
    "\n",
    "def linear_regression(X, y, m_current=0.1, b_current=0.1, epochs=10000, learning_rate=i):\n",
    "    N = float(len(y))\n",
    "    for i in range(epochs):\n",
    "          y_current = (m_current * X) + b_current\n",
    "          cost = sum([data**2 for data in (y-y_current)]) / N\n",
    "          # calculating error gradient\n",
    "          m_gradient = -(2/N) * sum(X * (y - y_current))\n",
    "          b_gradient = -(2/N) * sum(y - y_current)\n",
    "          # updating beta values using learning rate\n",
    "          m_current = m_current - (learning_rate * m_gradient)\n",
    "          b_current = b_current - (learning_rate * b_gradient)\n",
    "    return m_current, b_current, cost\n",
    "\n"
   ]
  },
  {
   "cell_type": "code",
   "execution_count": 38,
   "metadata": {},
   "outputs": [
    {
     "name": "stdout",
     "output_type": "stream",
     "text": [
      "(0.9752135353487272, 57.544401428787225, 18.343637374615117)\n"
     ]
    }
   ],
   "source": [
    "import numpy as np\n",
    "# data\n",
    "\n",
    "X = np.random.normal(loc = 7.5,scale = 0.75, size = 100)\n",
    "\n",
    "y = np.random.normal(loc = 65, scale = 3.8, size = 100)\n",
    "\n",
    "\n",
    "for i in [0.1,0.2,0.3]:\n",
    "    print(linear_regression(X,y))"
   ]
  },
  {
   "cell_type": "code",
   "execution_count": 40,
   "metadata": {},
   "outputs": [
    {
     "name": "stdout",
     "output_type": "stream",
     "text": [
      "[69.52317853 59.48671022 68.87525537 67.4923308  67.47997663 62.58209108\n",
      " 66.22676808 62.08454046 54.92882215 65.43860853 61.07529197 60.02263643\n",
      " 56.28319192 65.88098575 63.74630576 67.25063823 62.03781678 62.40083862\n",
      " 56.12876536 65.57296392 65.62881695 65.01152258 62.82798384 65.08933053\n",
      " 68.76379731 69.54997628 60.21658787 62.15926562 60.65820574 70.53398145\n",
      " 69.00208769 67.11773573 64.72765844 64.50194166 63.9206902  75.73255133\n",
      " 64.92179265 67.12834437 59.56505827 61.09043161 72.11167117 58.21229052\n",
      " 72.77824135 62.81497822 62.1945237  63.24167501 71.38503366 61.22211413\n",
      " 66.06865176 59.67337834 67.44000977 70.86633517 66.08311237 73.0741203\n",
      " 61.59803459 65.70185333 65.11715689 63.14411245 69.61930914 64.60548652\n",
      " 61.26271884 71.72591212 59.30262359 65.24204508 64.92347501 65.93885826\n",
      " 62.71878122 69.14043863 69.76710891 63.95913507 67.73342058 60.30321844\n",
      " 60.63249757 58.77381857 65.63114304 68.84160447 64.18981844 64.44067062\n",
      " 68.17318134 67.52505026 63.38567528 66.98981076 62.45232234 58.48985982\n",
      " 73.89066184 62.66308704 64.20182719 60.18737858 57.51884549 67.07606991\n",
      " 64.74685457 63.07659953 65.97697483 75.84933984 69.4036021  61.60353105\n",
      " 67.04816417 67.66869379 69.87169618 60.53237731]\n"
     ]
    }
   ],
   "source": [
    "print(y)"
   ]
  },
  {
   "cell_type": "code",
   "execution_count": 39,
   "metadata": {},
   "outputs": [
    {
     "ename": "NameError",
     "evalue": "name 'N' is not defined",
     "output_type": "error",
     "traceback": [
      "\u001b[0;31m---------------------------------------------------------------------------\u001b[0m",
      "\u001b[0;31mNameError\u001b[0m                                 Traceback (most recent call last)",
      "\u001b[0;32m<ipython-input-39-b35eac159417>\u001b[0m in \u001b[0;36m<module>\u001b[0;34m()\u001b[0m\n\u001b[1;32m      3\u001b[0m \u001b[0;31m# Going row by row and updating the beta value using each individual error\u001b[0m\u001b[0;34m\u001b[0m\u001b[0;34m\u001b[0m\u001b[0m\n\u001b[1;32m      4\u001b[0m \u001b[0;34m\u001b[0m\u001b[0m\n\u001b[0;32m----> 5\u001b[0;31m \u001b[0;32mfor\u001b[0m \u001b[0mi\u001b[0m \u001b[0;32min\u001b[0m \u001b[0mrange\u001b[0m\u001b[0;34m(\u001b[0m\u001b[0;36m1\u001b[0m\u001b[0;34m,\u001b[0m\u001b[0mN\u001b[0m\u001b[0;34m)\u001b[0m\u001b[0;34m:\u001b[0m\u001b[0;34m\u001b[0m\u001b[0m\n\u001b[0m\u001b[1;32m      6\u001b[0m     \u001b[0mm_current\u001b[0m \u001b[0;34m=\u001b[0m \u001b[0mm_current\u001b[0m \u001b[0;34m-\u001b[0m \u001b[0mlearning_rate\u001b[0m \u001b[0;34m*\u001b[0m \u001b[0mm_gradient\u001b[0m\u001b[0;34m\u001b[0m\u001b[0m\n\u001b[1;32m      7\u001b[0m \u001b[0;34m\u001b[0m\u001b[0m\n",
      "\u001b[0;31mNameError\u001b[0m: name 'N' is not defined"
     ]
    }
   ],
   "source": [
    "# stochastic gradient descent \n",
    "\n",
    "# Going row by row and updating the beta value using each individual error\n",
    "\n",
    "for i in range(1,N):\n",
    "    m_current = m_current - learning_rate * m_gradient\n",
    "\n",
    "\n",
    "\n"
   ]
  },
  {
   "cell_type": "code",
   "execution_count": 41,
   "metadata": {},
   "outputs": [
    {
     "name": "stdout",
     "output_type": "stream",
     "text": [
      "0.9.0\n"
     ]
    }
   ],
   "source": [
    "import statsmodels\n",
    "\n",
    "print(statsmodels.__version__)"
   ]
  },
  {
   "cell_type": "code",
   "execution_count": null,
   "metadata": {},
   "outputs": [],
   "source": []
  }
 ],
 "metadata": {
  "kernelspec": {
   "display_name": "Python 3",
   "language": "python",
   "name": "python3"
  },
  "language_info": {
   "codemirror_mode": {
    "name": "ipython",
    "version": 3
   },
   "file_extension": ".py",
   "mimetype": "text/x-python",
   "name": "python",
   "nbconvert_exporter": "python",
   "pygments_lexer": "ipython3",
   "version": "3.6.6"
  }
 },
 "nbformat": 4,
 "nbformat_minor": 2
}
